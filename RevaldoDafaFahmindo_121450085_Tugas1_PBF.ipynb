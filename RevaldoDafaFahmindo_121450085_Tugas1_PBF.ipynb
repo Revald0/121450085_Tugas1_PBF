{
  "nbformat": 4,
  "nbformat_minor": 0,
  "metadata": {
    "colab": {
      "provenance": []
    },
    "kernelspec": {
      "name": "python3",
      "display_name": "Python 3"
    },
    "language_info": {
      "name": "python"
    }
  },
  "cells": [
    {
      "cell_type": "markdown",
      "source": [
        "## 1. Jelaskan menggunakan tabel mengenai kelebihan dan kekurangan paradigma procedural dibandingkan dengan object oriented (minimal 3)!"
      ],
      "metadata": {
        "id": "5ItQRvaul-_w"
      }
    },
    {
      "cell_type": "markdown",
      "source": [
        "### Kelebihan Procedural dibandingkan Object Oriented"
      ],
      "metadata": {
        "id": "nssPt1wLoZr_"
      }
    },
    {
      "cell_type": "markdown",
      "source": [
        "| Procedural | Object Oriented |\n",
        "| ------ | --- | \n",
        "| Mudah dipahami bagi programmer pemula | Sulit dipahami bagi programmer pemula |\n",
        "| Cocok untuk untuk project sederhana | Kurang cocok untuk untuk project sederhana |\n",
        "| Lebih sedikit menggunakan memori | Lebih banyak menggunakan memori dibandingkan Procedural |\n",
        "| Proses debugging lebih mudah dilakukan | Proses debugging lebih sulit dilakukan dibandingkan Procedural |"
      ],
      "metadata": {
        "id": "cvVYH1BnoAn5"
      }
    },
    {
      "cell_type": "markdown",
      "source": [
        "### Kekurangan Procedural dibandingkan Object Oriented"
      ],
      "metadata": {
        "id": "NjkNZqOuodX7"
      }
    },
    {
      "cell_type": "markdown",
      "source": [
        "| Procedural | Object Oriented |\n",
        "| ------ | --- | \n",
        "| Tidak memiliki akses modifiers | Memiliki akses modifiers |\n",
        "| Kurang aman dibandingkan Object Oriented | Lebih aman karena dapat melakukan abstraction |\n",
        "| Lebih sulit dimodifikasi | Mudah dimodifikasi |\n",
        "| Kurang cocok untuk project yang kompleks | Cocok untuk project yang kompleks |\n",
        "| Data bersifat pasif | Objek-objek bersifat aktif |"
      ],
      "metadata": {
        "id": "fZGKFBN1of7e"
      }
    },
    {
      "cell_type": "markdown",
      "source": [
        "## 2. Jelaskan menggunakan tabel mengenai kelebihan dan kekurangan paradigma object oriented dibandingkan dengan functional (minimal 3)!"
      ],
      "metadata": {
        "id": "pjF1FuOamdHD"
      }
    },
    {
      "cell_type": "markdown",
      "source": [
        "### Kelebihan Object Oriented dibandingkan Functional"
      ],
      "metadata": {
        "id": "aPp4FcZbpf5n"
      }
    },
    {
      "cell_type": "markdown",
      "source": [
        "| Object Oriented | Functional |\n",
        "| ------ | --- | \n",
        "| Data yang digunakan dapat diubah | Data dalam fungsi tidak dapat diubah |\n",
        "| Mudah untuk menambahkan data dan fungsi baru | Sulit untuk menambahkan data dan fungsi baru |\n",
        "| Lebih aman dibandingkan Functional | Kurang aman dibandingkan Object Oriented |\n",
        "| Cocok digunakan untuk projek besar | Kurang cocok digunakan untuk projek besar |\n",
        "| Algoritma yang digunakan lebih jelas | Algoritma yang digunakan kurang jelas dibandingkan Object Oriented"
      ],
      "metadata": {
        "id": "DLuuNIa4pIrG"
      }
    },
    {
      "cell_type": "markdown",
      "source": [
        "### Kekurangan Object Oriented dibandingkan Functional"
      ],
      "metadata": {
        "id": "LxZ6UsMfpkTX"
      }
    },
    {
      "cell_type": "markdown",
      "source": [
        "| Object Oriented | Functional |\n",
        "| ------ | --- | \n",
        "| Tidak mendukung pemrograman paralel | Mendukung pemrograman paralel |\n",
        "| Lebih banyak menggunakan memori dibandingkan Functional | Lebih sedikit menggunakan memori |\n",
        "| Kode yang digunakan lebih banyak | Kode yang digunakan lebih sedikit dibandingkan Object Oriented |\n"
      ],
      "metadata": {
        "id": "-EQX8M0rpKYK"
      }
    },
    {
      "cell_type": "markdown",
      "source": [
        "## 3. Jelaskan menggunakan tabel mengenai kelebihan dan kekurangan paradigma procedural dibandingkan dengan functional (minimal 3)!\n"
      ],
      "metadata": {
        "id": "WezTioigmnbK"
      }
    },
    {
      "cell_type": "markdown",
      "source": [
        "### Kelebihan Procedural dibandingkan Functional"
      ],
      "metadata": {
        "id": "IsyWVsAZphQD"
      }
    },
    {
      "cell_type": "markdown",
      "source": [
        "| Procedural | Functional |\n",
        "| ------ | --- | \n",
        "| Memiliki kecepatan eksekusi yang lebih tinggi | Eksekusi lebih lambat dibandingkan Procedural |\n",
        "| Lebih mudah dipahami bagi pemula | Lebih sulit dipahami bagi pemula |\n",
        "| Data yang digunakan dapat diubah | Data dalam fungsi tidak dapat diubah |\n",
        "| Penulisan loop normal | Penulisan loop rumit |\n"
      ],
      "metadata": {
        "id": "_ebm47TGpOhj"
      }
    },
    {
      "cell_type": "markdown",
      "source": [
        "### Kekurangan Procedural dibandingkan Functional"
      ],
      "metadata": {
        "id": "sPiKOeP2pl5k"
      }
    },
    {
      "cell_type": "markdown",
      "source": [
        "| Procedural | Functional |\n",
        "| ------ | --- | \n",
        "|  Proses debugging lebih susah dibandingkan Functional | Proses debugging lebih mudah |\n",
        "| Lebih sedikit menggunakan fungsi | Lebih banyak menggunakan fungsi sehingga code lebih sedikit |\n",
        "| Lebih sulit untuk membuat aplikasi yang dapat diterima oleh beberapa tim pengembang | Lebih mudah untuk membuat aplikasi yang dapat diterima oleh beberapa tim pengembang |"
      ],
      "metadata": {
        "id": "ygTMErOOpPjb"
      }
    },
    {
      "cell_type": "markdown",
      "source": [
        "## 4. Apa yang dimaksud dengan pure functional programming language?\n"
      ],
      "metadata": {
        "id": "LCo1FiaAmsdi"
      }
    },
    {
      "cell_type": "markdown",
      "source": [
        "Pure Functional Programming Language merupakan sebuah paradigma pemrograman yang hanya menggunakan fungsi matematis dalam penyelesaian masalah dan pembuatan programnya. Dalam paradigma ini fungsi menerima parameter sebagai input dan mengembalikan nilai, tanpa mengubah nilai dari variabel manapun. Contohnya adalah PureScript, Haskell, dan Idris."
      ],
      "metadata": {
        "id": "yOJ8T9kc6xbv"
      }
    },
    {
      "cell_type": "markdown",
      "source": [
        "## 5. Dari bahasa pemrograman FP di slide sebelumnya (slide 14), manakah yang termasuk pure functional programming language?\n"
      ],
      "metadata": {
        "id": "rcde-QMNmuzy"
      }
    },
    {
      "cell_type": "markdown",
      "source": [
        "Yang termasuk dalam pure functional programming language adalah Lisp, Haskell, dan Standard ML."
      ],
      "metadata": {
        "id": "YuqnPzpN8UZC"
      }
    },
    {
      "cell_type": "markdown",
      "source": [
        "## 6. Membuat program Simple Password encryption, dengan ketentuan\n",
        "1. Input password bertipe string dengan batasan panjang password\n",
        "100 karakter\n",
        "2. Setiap karakter dari string tersebut diubah menjadi ASCII value\n",
        "3. Kemudian setiap ASCII value tersebut dikembangkan menjadi 3\n",
        "value dengan dilakukan operasi berikut:\n",
        "  \n",
        "  1. Value pertama dibagi dengan integer 26 kemudian\n",
        "dibulatkan dan dijumlahkan dengan 80 kemudian diubah\n",
        "kembali menjadi karakter\n",
        "  2. Value kedua dihitung sisa bagi dengan 26 kemudian\n",
        "dijumlahkan dengan 80 kemudian diubah kembali menjadi\n",
        "karakter\n",
        "  3. Value ketiga adalah karakter ‘+’ jika value pertama lebih\n",
        "besar dari value kedua, atau value ketiga adalah karakter ‘-’\n",
        "jika value pertama tidak lebih besar dari value kedua\n",
        "\n",
        "4. Deretkan value pertama, kedua dan ketiga untuk setiap karakter\n",
        "dalam password tersebut sehingga didapatkan password dalam\n",
        "bentuk baru"
      ],
      "metadata": {
        "id": "m3qOHQQ3m19l"
      }
    },
    {
      "cell_type": "code",
      "source": [
        "def Encryption(pwd):\n",
        "  if len(pwd) > 100 or len(pwd) == 0:\n",
        "    print(\"Masukkan password maksimal 100 karakter\")\n",
        "  else:\n",
        "    # mengubah setiap karakter menjadi ASCII value\n",
        "    ascii = [str(ord(n)) for n in pwd] \n",
        "\n",
        "    # membagi 3 value \n",
        "    Encryption = \"\".join(chr((int(j)//26)+80) + chr((int(j)%26)+80) + (\"+\" if (int(j)//26)+80 > (int(j)%26)+80 else \"-\") for j in ascii)\n",
        "\n",
        "    # output \n",
        "    print(\"Enkripsi Password: \", Encryption)\n",
        "\n",
        "# fungsi dekripsi\n",
        "def Decryption(pwd):\n",
        "\n",
        "  #bagi menjadi 3 value \n",
        "  split = [(pwd[i:i+3]) for i in range(0, len(pwd), 3)]\n",
        "  # membuat 3 value kembali ke kode ascii lalu ke karakter asli dan menggabungkan semuanya\n",
        "  decrypt = ''.join(chr(((ord(list(z)[0])-80)*26)+(ord(list(z)[1])-80)) for z in split)\n",
        "  # menampilkan hasil dekripsi\n",
        "  print(\"The password is: \", decrypt)\n",
        "\n",
        "  # enkripsi\n",
        "pwd = input(\"Masukkan Password: \")\n",
        "Encryption(pwd)"
      ],
      "metadata": {
        "id": "pA5kIQE3nEF4",
        "colab": {
          "base_uri": "https://localhost:8080/"
        },
        "outputId": "a9dde934-7752-43fb-ab4a-75e3500d4ad4"
      },
      "execution_count": 8,
      "outputs": [
        {
          "output_type": "stream",
          "name": "stdout",
          "text": [
            "Masukkan Password: iterajayajayajaya2023\n",
            "Enkripsi Password:  TQ+T\\-Sg-TZ-Sc-TR+Sc-Ta-Sc-TR+Sc-Ta-Sc-TR+Sc-Ta-Sc-Qh-Qf-Qh-Qi-\n"
          ]
        }
      ]
    }
  ]
}